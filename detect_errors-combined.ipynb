{
 "cells": [
  {
   "cell_type": "code",
   "execution_count": 14,
   "id": "6f469121",
   "metadata": {},
   "outputs": [],
   "source": [
    "from demodq.datasets import Datasets\n",
    "from demodq.column_errors import detect_missing_values, detect_outliers_sd, detect_outliers_iqr\n",
    "from demodq.tuple_errors import detect_mislabeled_via_cleanlab, detect_outliers_via_if, detect_mislabeled_via_shapley\n",
    "from demodq.analysis import analyse_marked, detect_disparate_errors, is_disparate\n",
    "\n",
    "import warnings\n",
    "warnings.filterwarnings('ignore')"
   ]
  },
  {
   "cell_type": "code",
   "execution_count": 12,
   "id": "a5d1eb48",
   "metadata": {},
   "outputs": [],
   "source": [
    "def perc(frac):\n",
    "  return str(round(frac * 100, 1)) + '\\%'"
   ]
  },
  {
   "cell_type": "code",
   "execution_count": 20,
   "id": "8ebd14e7",
   "metadata": {},
   "outputs": [],
   "source": [
    "import pandas as pd\n",
    "\n",
    "cases = [('adult', 'sex'), ('adult', 'race'), ('folktables', 'sex'), ('folktables', 'race'), \n",
    "         ('heart', 'sex'), ('credit', 'age'), ('german', 'age')]"
   ]
  },
  {
   "cell_type": "code",
   "execution_count": 19,
   "id": "0acc9be4",
   "metadata": {},
   "outputs": [
    {
     "name": "stdout",
     "output_type": "stream",
     "text": [
      "adult sex 6.5\\% 9.2\\% True\n",
      "adult race 6.8\\% 10.7\\% True\n",
      "folktables sex 44.4\\% 51.7\\% True\n",
      "folktables race 47.7\\% 48.7\\% True\n",
      "heart sex 0.0\\% 0.0\\% False\n",
      "credit age 20.1\\% 15.8\\% True\n",
      "german age 32.8\\% 20.5\\% True\n"
     ]
    }
   ],
   "source": [
    "for dataset_name, criteria in cases:\n",
    "\n",
    "    dataset = Datasets.load(dataset_name)\n",
    "    \n",
    "    data = dataset.as_df().copy(deep=True)\n",
    "    data['id'] = range(len(data))\n",
    "\n",
    "    dirty_slices = []\n",
    "\n",
    "    for column in dataset.categorical_columns + dataset.numerical_columns:    \n",
    "        dirty_slices.append(detect_missing_values(data, column))\n",
    "\n",
    "    dirty = pd.concat(dirty_slices).drop_duplicates(subset='id')    \n",
    "\n",
    "    data_priv, data_nonpriv = dataset.partition_data_by(data, criteria)\n",
    "    dirty_priv, dirty_nonpriv = dataset.partition_data_by(dirty, criteria)\n",
    "\n",
    "    disparate = is_disparate(len(data_priv), len(dirty_priv), len(data_nonpriv), len(dirty_nonpriv))\n",
    "    \n",
    "    frac_priv = len(dirty_priv) / len(data_priv)\n",
    "    frac_nonpriv = len(dirty_nonpriv) / len(data_nonpriv)\n",
    "\n",
    "    print(dataset_name, criteria, perc(frac_priv), perc(frac_nonpriv), disparate)"
   ]
  },
  {
   "cell_type": "code",
   "execution_count": 21,
   "id": "9145d00f",
   "metadata": {},
   "outputs": [
    {
     "name": "stdout",
     "output_type": "stream",
     "text": [
      "adult sex sd 7.9\\% 4.7\\% True\n",
      "adult sex iqr 36.6\\% 38.6\\% True\n",
      "adult race sd 7.1\\% 5.3\\% True\n",
      "adult race iqr 38.2\\% 31.8\\% True\n",
      "folktables sex sd 0.7\\% 0.3\\% True\n",
      "folktables sex iqr 0.0\\% 0.0\\% False\n",
      "folktables race sd 0.5\\% 0.5\\% False\n",
      "folktables race iqr 0.0\\% 0.0\\% False\n",
      "heart sex sd 10.2\\% 10.0\\% False\n",
      "heart sex iqr 24.1\\% 22.9\\% True\n",
      "credit age sd 3.7\\% 1.9\\% True\n",
      "credit age iqr 39.7\\% 39.2\\% False\n",
      "german age sd 5.1\\% 3.7\\% False\n",
      "german age iqr 30.2\\% 14.2\\% True\n"
     ]
    }
   ],
   "source": [
    "for dataset_name, criteria in cases:\n",
    "\n",
    "    dataset = Datasets.load(dataset_name)\n",
    "    \n",
    "    data = dataset.as_df().copy(deep=True)\n",
    "    data['id'] = range(len(data))\n",
    "\n",
    "    \n",
    "    for detector, name in [(detect_outliers_sd, 'sd'), (detect_outliers_iqr, 'iqr')]:\n",
    "        \n",
    "        dirty_slices = []\n",
    "\n",
    "        for column in dataset.numerical_columns:    \n",
    "            dirty_slices.append(detector(data, column))\n",
    "\n",
    "        dirty = pd.concat(dirty_slices).drop_duplicates(subset='id')    \n",
    "\n",
    "        data_priv, data_nonpriv = dataset.partition_data_by(data, criteria)\n",
    "        dirty_priv, dirty_nonpriv = dataset.partition_data_by(dirty, criteria)\n",
    "\n",
    "        disparate = is_disparate(len(data_priv), len(dirty_priv), len(data_nonpriv), len(dirty_nonpriv))\n",
    "\n",
    "        frac_priv = len(dirty_priv) / len(data_priv)\n",
    "        frac_nonpriv = len(dirty_nonpriv) / len(data_nonpriv)\n",
    "\n",
    "        print(dataset_name, criteria, name, perc(frac_priv), perc(frac_nonpriv), disparate)"
   ]
  },
  {
   "cell_type": "code",
   "execution_count": null,
   "id": "d0f484b1",
   "metadata": {},
   "outputs": [],
   "source": []
  }
 ],
 "metadata": {
  "kernelspec": {
   "display_name": "Python 3 (ipykernel)",
   "language": "python",
   "name": "python3"
  },
  "language_info": {
   "codemirror_mode": {
    "name": "ipython",
    "version": 3
   },
   "file_extension": ".py",
   "mimetype": "text/x-python",
   "name": "python",
   "nbconvert_exporter": "python",
   "pygments_lexer": "ipython3",
   "version": "3.9.13"
  }
 },
 "nbformat": 4,
 "nbformat_minor": 5
}
