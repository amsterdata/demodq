{
 "cells": [
  {
   "cell_type": "code",
   "execution_count": 2,
   "id": "177b953d",
   "metadata": {},
   "outputs": [],
   "source": [
    "import numpy as np\n",
    "import json\n",
    "\n",
    "folder='cleanml-results/'\n",
    "\n",
    "with open(f'{folder}/Credit_result.json') as f:\n",
    "    credit_data = json.load(f)\n",
    "\n",
    "with open(f'{folder}/USCensus_result.json') as f:\n",
    "    adult_data = json.load(f)    \n",
    "    \n",
    "with open(f'{folder}/ACSIncome_result.json') as f:\n",
    "    folk_data = json.load(f)        \n",
    "    \n",
    "with open(f'{folder}/Cardio_result.json') as f:\n",
    "    heart_data = json.load(f)     \n",
    "    \n",
    "with open(f'{folder}/GermanCredit_result.json') as f:\n",
    "    german_data = json.load(f)            "
   ]
  },
  {
   "cell_type": "code",
   "execution_count": 3,
   "id": "b7550862",
   "metadata": {},
   "outputs": [],
   "source": [
    "import statistics\n",
    "from statistics import multimode\n",
    " \n",
    "def most_common(List):\n",
    "    return(multimode(List))"
   ]
  },
  {
   "cell_type": "code",
   "execution_count": 4,
   "id": "1e676af8",
   "metadata": {},
   "outputs": [],
   "source": [
    "def count(data, error_type):\n",
    "    \n",
    "    best_accuracy_per_split = {}\n",
    "    best_model_per_split = {}\n",
    "    \n",
    "    for experiment in data.keys():\n",
    "        if error_type in experiment:        \n",
    "            split_seed = experiment.split(\"/\")[1]\n",
    "            model = experiment.split(\"/\")[4]   \n",
    "\n",
    "            for key in data[experiment].keys():\n",
    "                if 'test_acc' in key:\n",
    "                    accuracy = data[experiment][key]\n",
    "                    \n",
    "                    if not split_seed in best_accuracy_per_split or accuracy > best_accuracy_per_split[split_seed]:\n",
    "                        best_accuracy_per_split[split_seed] = accuracy\n",
    "                        best_model_per_split[split_seed] = model\n",
    "\n",
    "    if len(best_model_per_split) > 0:                \n",
    "        print(error_type, most_common(list(best_model_per_split.values())))\n",
    "      "
   ]
  },
  {
   "cell_type": "code",
   "execution_count": 5,
   "id": "31d76c55",
   "metadata": {},
   "outputs": [
    {
     "name": "stdout",
     "output_type": "stream",
     "text": [
      "outliers ['XGBoost']\n",
      "outliers ['XGBoost']\n",
      "outliers ['XGBoost']\n",
      "outliers ['logistic_regression']\n",
      "outliers ['XGBoost']\n",
      "missing_values ['XGBoost']\n",
      "missing_values ['XGBoost']\n",
      "missing_values ['logistic_regression']\n",
      "missing_values ['XGBoost']\n",
      "mislabel ['logistic_regression']\n",
      "mislabel ['logistic_regression']\n",
      "mislabel ['logistic_regression']\n",
      "mislabel ['logistic_regression']\n",
      "mislabel ['logistic_regression']\n"
     ]
    }
   ],
   "source": [
    "errors = ['outliers', 'missing_values', 'mislabel']\n",
    "\n",
    "for error in errors:\n",
    "    count(adult_data, error)\n",
    "    count(folk_data, error)\n",
    "    count(heart_data, error)\n",
    "    count(credit_data, error)\n",
    "    count(german_data, error)"
   ]
  },
  {
   "cell_type": "code",
   "execution_count": null,
   "id": "2a228627",
   "metadata": {},
   "outputs": [],
   "source": []
  },
  {
   "cell_type": "code",
   "execution_count": null,
   "id": "4034cd5e",
   "metadata": {},
   "outputs": [],
   "source": []
  }
 ],
 "metadata": {
  "kernelspec": {
   "display_name": "Python 3 (ipykernel)",
   "language": "python",
   "name": "python3"
  },
  "language_info": {
   "codemirror_mode": {
    "name": "ipython",
    "version": 3
   },
   "file_extension": ".py",
   "mimetype": "text/x-python",
   "name": "python",
   "nbconvert_exporter": "python",
   "pygments_lexer": "ipython3",
   "version": "3.9.13"
  }
 },
 "nbformat": 4,
 "nbformat_minor": 5
}
