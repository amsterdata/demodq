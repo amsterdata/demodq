{
 "cells": [
  {
   "cell_type": "code",
   "execution_count": 1,
   "id": "3ce4bf15",
   "metadata": {},
   "outputs": [],
   "source": [
    "import numpy as np\n",
    "\n",
    "def get_intersectional_groups(priv_bool1, priv_bool2):\n",
    "    dis_bool1 = np.logical_not(priv_bool1)\n",
    "    dis_bool2 = np.logical_not(priv_bool2)\n",
    "    \n",
    "    priv_priv = np.logical_and(priv_bool1, priv_bool2)\n",
    "    priv_dis  = np.logical_and(priv_bool1, dis_bool2)\n",
    "    dis_priv  = np.logical_and(dis_bool1,  priv_bool2)\n",
    "    dis_dis   = np.logical_and(dis_bool1,  dis_bool2)\n",
    "    \n",
    "    return {\n",
    "        \"priv_priv\": priv_priv.sum(),\n",
    "        \"priv_dis\":  priv_dis.sum(),\n",
    "        \"dis_priv\":  dis_priv.sum(),\n",
    "        \"dis_dis\":   dis_dis.sum(),\n",
    "    }"
   ]
  },
  {
   "cell_type": "code",
   "execution_count": 2,
   "id": "f3a521bf",
   "metadata": {},
   "outputs": [],
   "source": [
    "%pip install prettytable"
   ]
  },
  {
   "cell_type": "code",
   "execution_count": 3,
   "id": "79f49e99",
   "metadata": {},
   "outputs": [],
   "source": [
    "from prettytable import PrettyTable\n",
    "\n",
    "def draw_table(dataset, attr1, attr2, counts):\n",
    "    x = PrettyTable()\n",
    "    x.field_names = [dataset, f\"{attr1} priv\", f\"{attr1} dis\", \"total\"]\n",
    "    x.add_row([f\"{attr2} priv\", counts[\"priv_priv\"], counts[\"dis_priv\"], counts[\"priv_priv\"] + counts[\"dis_priv\"]])\n",
    "    x.add_row([f\"{attr2} dis\", counts[\"priv_dis\"], counts[\"dis_dis\"], counts[\"priv_dis\"] + counts[\"dis_dis\"]])\n",
    "    x.add_row([\"total\", counts[\"priv_priv\"] + counts[\"priv_dis\"], counts[\"dis_priv\"] + counts[\"dis_dis\"], counts[\"priv_priv\"] + counts[\"priv_dis\"] + counts[\"dis_priv\"] + counts[\"dis_dis\"]])\n",
    "    print(x)"
   ]
  },
  {
   "cell_type": "markdown",
   "id": "59f148c5",
   "metadata": {},
   "source": [
    "# Age threshold to partition `cardio` dataset"
   ]
  },
  {
   "cell_type": "code",
   "execution_count": 4,
   "id": "b23ad732",
   "metadata": {},
   "outputs": [],
   "source": [
    "import pandas as pd"
   ]
  },
  {
   "cell_type": "code",
   "execution_count": 5,
   "id": "23e9a2bd",
   "metadata": {},
   "outputs": [],
   "source": [
    "cardio_raw = pd.read_csv(\"data/cardio/cardio.csv\", sep=\";\")"
   ]
  },
  {
   "cell_type": "code",
   "execution_count": 6,
   "id": "0c497afb",
   "metadata": {},
   "outputs": [],
   "source": [
    "for age_in_years in [40, 55, 65]:\n",
    "    cardio_age_threshold = age_in_years * 365.25  # age in days\n",
    "    counts = get_intersectional_groups(cardio_raw[\"gender\"] == 2, cardio_raw[\"age\"] > cardio_age_threshold)\n",
    "    draw_table(f\"CARDIO (age@{age_in_years})\", \"gender\", \"age\", counts)"
   ]
  },
  {
   "cell_type": "markdown",
   "id": "eb8ba0a2",
   "metadata": {},
   "source": [
    "# Intersection with sex in `GermanCredit` dataset"
   ]
  },
  {
   "cell_type": "code",
   "execution_count": 7,
   "id": "abb8f1ce",
   "metadata": {},
   "outputs": [],
   "source": [
    "german_columns = [\"status\", \"month\", \"credit_history\", \"purpose\", \"credit_amount\", \"savings\",\n",
    "                  \"employment\", \"investment_as_income_percentage\", \"personal_status\",\n",
    "                  \"other_debtors\", \"residence_since\", \"property\", \"age\",\n",
    "                  \"installment_plans\", \"housing\", \"number_of_credits\",\n",
    "                  \"skill_level\", \"people_liable_for\", \"telephone\",\n",
    "                  \"foreign_worker\", \"credit\"]\n",
    "german_raw = pd.read_csv(\"data/german/german.data\", sep=\" \", header=None, names=german_columns,\n",
    "                         na_values=[\"A65\", \"A124\"])"
   ]
  },
  {
   "cell_type": "code",
   "execution_count": 8,
   "id": "3d52518d",
   "metadata": {},
   "outputs": [],
   "source": [
    "german_raw.head()"
   ]
  },
  {
   "cell_type": "code",
   "execution_count": 9,
   "id": "78b9328e",
   "metadata": {},
   "outputs": [],
   "source": [
    "counts = get_intersectional_groups(german_raw[\"age\"] > 25, german_raw[\"personal_status\"].isin([\"A91\", \"A93\", \"A94\"]))\n",
    "draw_table(\"GERMAN\", \"age\", \"sex\", counts)"
   ]
  },
  {
   "cell_type": "markdown",
   "id": "7029817d",
   "metadata": {},
   "source": [
    "# Intersection with `foreign_worker` in `GermanCredit` dataset"
   ]
  },
  {
   "cell_type": "code",
   "execution_count": 10,
   "id": "80433e24",
   "metadata": {},
   "outputs": [],
   "source": [
    "counts = get_intersectional_groups(german_raw[\"age\"] > 25, german_raw[\"foreign_worker\"] == \"A202\")\n",
    "draw_table(\"GERMAN\", \"age\", \"foreign_worker\", counts)"
   ]
  }
 ],
 "metadata": {
  "kernelspec": {
   "display_name": "Python 3 (ipykernel)",
   "language": "python",
   "name": "python3"
  },
  "language_info": {
   "codemirror_mode": {
    "name": "ipython",
    "version": 3
   },
   "file_extension": ".py",
   "mimetype": "text/x-python",
   "name": "python",
   "nbconvert_exporter": "python",
   "pygments_lexer": "ipython3",
   "version": "3.10.8"
  }
 },
 "nbformat": 4,
 "nbformat_minor": 5
}
