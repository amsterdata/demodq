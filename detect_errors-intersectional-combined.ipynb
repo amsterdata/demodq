{
 "cells": [
  {
   "cell_type": "code",
   "execution_count": 1,
   "id": "6f469121",
   "metadata": {},
   "outputs": [],
   "source": [
    "from demodq.datasets import Datasets\n",
    "from demodq.column_errors import detect_missing_values, detect_outliers_sd, detect_outliers_iqr\n",
    "from demodq.tuple_errors import detect_mislabeled_via_cleanlab, detect_outliers_via_if, detect_mislabeled_via_shapley\n",
    "from demodq.analysis import analyse_marked, detect_disparate_errors, is_disparate\n",
    "\n",
    "import warnings\n",
    "warnings.filterwarnings('ignore')"
   ]
  },
  {
   "cell_type": "code",
   "execution_count": 2,
   "id": "a5d1eb48",
   "metadata": {},
   "outputs": [],
   "source": [
    "import numpy as np\n",
    "\n",
    "def perc(frac):\n",
    "    if frac == np.NAN: return frac\n",
    "    return str(round(frac * 100, 1)) + '\\%'"
   ]
  },
  {
   "cell_type": "code",
   "execution_count": 3,
   "id": "8ebd14e7",
   "metadata": {},
   "outputs": [],
   "source": [
    "import pandas as pd\n",
    "\n",
    "cases = [('adult', 'sex', 'race'), ('folktables', 'sex', 'race'), \n",
    "         ('heart', 'sex', 'age@35'), ('heart', 'sex', 'age@45'), ('heart', 'sex', 'age@55'),\n",
    "         ('german', 'age', 'sex'), ('german', 'age', 'foreign_worker'), ('german', 'sex', 'foreign_worker')]"
   ]
  },
  {
   "cell_type": "code",
   "execution_count": 4,
   "id": "2911236b",
   "metadata": {},
   "outputs": [],
   "source": [
    "from prettytable import PrettyTable"
   ]
  },
  {
   "cell_type": "code",
   "execution_count": 5,
   "id": "0acc9be4",
   "metadata": {},
   "outputs": [
    {
     "name": "stdout",
     "output_type": "stream",
     "text": [
      "+------------+-------+---------+-----------------+----------------+-----------------+----------------+\n",
      "|  dataset   | attr1 |  attr2  |  frac_priv_priv | frac_priv_dis  |  frac_dis_priv  |  frac_dis_dis  |\n",
      "+------------+-------+---------+-----------------+----------------+-----------------+----------------+\n",
      "|   adult    |  sex  |   race  |  6.0\\% (28735)  | 10.4\\% (3915)  |  8.8\\% (13027)  | 11.2\\% (3165)  |\n",
      "| folktables |  sex  |   race  | 43.5\\% (115136) | 45.9\\% (71541) | 51.9\\% (117473) | 51.4\\% (74667) |\n",
      "|   heart    |  sex  |  age@35 |  0.0\\% (45527)  |   0.0\\% (3)    |  0.0\\% (24469)  |   0.0\\% (1)    |\n",
      "|   heart    |  sex  |  age@45 |  0.0\\% (39163)  |  0.0\\% (6367)  |  0.0\\% (20565)  |  0.0\\% (3905)  |\n",
      "|   heart    |  sex  |  age@55 |  0.0\\% (20579)  | 0.0\\% (10674)  |  0.0\\% (24951)  | 0.0\\% (13796)  |\n",
      "|   german   |  age  |   sex   |   34.4\\% (605)  |  28.3\\% (205)  |   21.2\\% (85)   |  20.0\\% (105)  |\n",
      "|   german   |  age  | foreign |   23.5\\% (34)   |  33.2\\% (776)  |    33.3\\% (3)   |  20.3\\% (187)  |\n",
      "|   german   |  sex  | foreign |   23.3\\% (30)   |  33.2\\% (660)  |    28.6\\% (7)   |  25.4\\% (303)  |\n",
      "+------------+-------+---------+-----------------+----------------+-----------------+----------------+\n"
     ]
    }
   ],
   "source": [
    "frac_missing = PrettyTable()\n",
    "frac_missing.field_names = [\"dataset\", \"attr1\", \"attr2\", \"frac_priv_priv\", \"frac_priv_dis\",\n",
    "                            \"frac_dis_priv\", \"frac_dis_dis\"]\n",
    "\n",
    "for dataset_name, attr1, attr2 in cases:\n",
    "    dataset = Datasets.load(dataset_name)\n",
    "\n",
    "    data = dataset.as_df().copy(deep=True)\n",
    "    data['id'] = range(len(data))\n",
    "\n",
    "    dirty_slices = []\n",
    "\n",
    "    for column in dataset.categorical_columns + dataset.numerical_columns:\n",
    "        dirty_slices.append(detect_missing_values(data, column))\n",
    "\n",
    "    dirty = pd.concat(dirty_slices).drop_duplicates(subset='id')\n",
    "\n",
    "    data_priv_priv, data_priv_nonpriv, data_nonpriv_priv, data_nonpriv_nonpriv = \\\n",
    "        dataset.partition_data_by(data, attr1, attr2)\n",
    "    dirty_priv_priv, dirty_priv_nonpriv, dirty_nonpriv_priv, dirty_nonpriv_nonpriv = \\\n",
    "        dataset.partition_data_by(dirty, attr1, attr2)\n",
    "\n",
    "    # disparate = is_disparate(len(data_priv), len(dirty_priv), len(data_nonpriv), len(dirty_nonpriv))\n",
    "    \n",
    "    frac_priv_priv = len(dirty_priv_priv) / len(data_priv_priv) if len(data_priv_priv) else np.NAN\n",
    "    frac_priv_nonpriv = len(dirty_priv_nonpriv) / len(data_priv_nonpriv) if len(data_priv_nonpriv) else np.NAN\n",
    "    frac_nonpriv_priv = len(dirty_nonpriv_priv) / len(data_nonpriv_priv) if len(data_nonpriv_priv) else np.NAN\n",
    "    frac_nonpriv_nonpriv = len(dirty_nonpriv_nonpriv) / len(data_nonpriv_nonpriv) if len(data_nonpriv_nonpriv) else np.NAN\n",
    "\n",
    "    frac_missing.add_row([dataset_name, attr1[:7], attr2[:7],\n",
    "                          f\"{perc(frac_priv_priv)} ({len(data_priv_priv)})\",\n",
    "                          f\"{perc(frac_priv_nonpriv)} ({len(data_priv_nonpriv)})\",\n",
    "                          f\"{perc(frac_nonpriv_priv)} ({len(data_nonpriv_priv)})\",\n",
    "                          f\"{perc(frac_nonpriv_nonpriv)} ({len(data_nonpriv_nonpriv)})\"])\n",
    "\n",
    "print(frac_missing)"
   ]
  },
  {
   "cell_type": "code",
   "execution_count": 6,
   "id": "9145d00f",
   "metadata": {},
   "outputs": [
    {
     "name": "stdout",
     "output_type": "stream",
     "text": [
      "+------------+-------+---------+------+----------------+----------------+----------------+----------------+\n",
      "|  dataset   | attr1 |  attr2  | name | frac_priv_priv | frac_priv_dis  | frac_dis_priv  |  frac_dis_dis  |\n",
      "+------------+-------+---------+------+----------------+----------------+----------------+----------------+\n",
      "|   adult    |  sex  |   race  |  sd  | 8.1\\% (28735)  |  6.5\\% (3915)  | 5.0\\% (13027)  |  3.8\\% (3165)  |\n",
      "|   adult    |  sex  |   race  | iqr  | 37.2\\% (28735) | 32.4\\% (3915)  | 40.5\\% (13027) | 31.0\\% (3165)  |\n",
      "|   adult    |  sex  |   race  |  if  | 0.1\\% (28735)  |  3.5\\% (3915)  | 0.4\\% (13027)  |  8.9\\% (3165)  |\n",
      "| folktables |  sex  |   race  |  sd  | 0.7\\% (115136) | 0.6\\% (71541)  | 0.3\\% (117473) | 0.4\\% (74667)  |\n",
      "| folktables |  sex  |   race  | iqr  | 0.0\\% (115136) | 0.0\\% (71541)  | 0.0\\% (117473) | 0.0\\% (74667)  |\n",
      "| folktables |  sex  |   race  |  if  | 0.3\\% (115136) | 2.1\\% (71541)  | 0.3\\% (117473) | 2.2\\% (74667)  |\n",
      "|   heart    |  sex  |  age@35 |  sd  | 10.1\\% (45527) |  100.0\\% (3)   | 10.0\\% (24469) |  100.0\\% (1)   |\n",
      "|   heart    |  sex  |  age@35 | iqr  | 24.1\\% (45527) |  100.0\\% (3)   | 22.9\\% (24469) |  100.0\\% (1)   |\n",
      "|   heart    |  sex  |  age@35 |  if  | 0.5\\% (45527)  |   0.0\\% (3)    | 2.0\\% (24469)  |   0.0\\% (1)    |\n",
      "|   heart    |  sex  |  age@45 |  sd  | 10.8\\% (39163) |  5.9\\% (6367)  | 10.6\\% (20565) |  6.8\\% (3905)  |\n",
      "|   heart    |  sex  |  age@45 | iqr  | 24.3\\% (39163) | 22.9\\% (6367)  | 23.9\\% (20565) | 18.1\\% (3905)  |\n",
      "|   heart    |  sex  |  age@45 |  if  | 0.4\\% (39163)  |  0.8\\% (6367)  | 1.9\\% (20565)  |  2.3\\% (3905)  |\n",
      "|   heart    |  sex  |  age@55 |  sd  | 12.9\\% (20579) | 12.0\\% (10674) | 7.9\\% (24951)  | 8.4\\% (13796)  |\n",
      "|   heart    |  sex  |  age@55 | iqr  | 26.0\\% (20579) | 25.3\\% (10674) | 22.6\\% (24951) | 21.1\\% (13796) |\n",
      "|   heart    |  sex  |  age@55 |  if  | 0.4\\% (20579)  | 1.9\\% (10674)  | 0.6\\% (24951)  | 2.0\\% (13796)  |\n",
      "|   german   |  age  |   sex   |  sd  |  5.5\\% (605)   |  3.9\\% (205)   |   5.9\\% (85)   |  1.9\\% (105)   |\n",
      "|   german   |  age  |   sex   | iqr  |  34.5\\% (605)  |  17.6\\% (205)  |  18.8\\% (85)   |  10.5\\% (105)  |\n",
      "|   german   |  age  |   sex   |  if  |  1.0\\% (605)   |  1.5\\% (205)   |   0.0\\% (85)   |  1.0\\% (105)   |\n",
      "|   german   |  age  | foreign |  sd  |   5.9\\% (34)   |  5.0\\% (776)   |   0.0\\% (3)    |  3.7\\% (187)   |\n",
      "|   german   |  age  | foreign | iqr  |  38.2\\% (34)   |  29.9\\% (776)  |   0.0\\% (3)    |  14.4\\% (187)  |\n",
      "|   german   |  age  | foreign |  if  |   8.8\\% (34)   |  0.8\\% (776)   |   33.3\\% (3)   |  0.0\\% (187)   |\n",
      "|   german   |  sex  | foreign |  sd  |   3.3\\% (30)   |  5.6\\% (660)   |   14.3\\% (7)   |  3.0\\% (303)   |\n",
      "|   german   |  sex  | foreign | iqr  |  40.0\\% (30)   |  32.3\\% (660)  |   14.3\\% (7)   |  15.2\\% (303)  |\n",
      "|   german   |  sex  | foreign |  if  |   3.3\\% (30)   |  0.8\\% (660)   |   42.9\\% (7)   |  0.3\\% (303)   |\n",
      "+------------+-------+---------+------+----------------+----------------+----------------+----------------+\n"
     ]
    }
   ],
   "source": [
    "frac_outliers = PrettyTable()\n",
    "frac_outliers.field_names = [\"dataset\", \"attr1\", \"attr2\", \"name\",\n",
    "                             \"frac_priv_priv\", \"frac_priv_dis\",\n",
    "                             \"frac_dis_priv\", \"frac_dis_dis\"]\n",
    "\n",
    "for dataset_name, attr1, attr2 in cases:\n",
    "    dataset = Datasets.load(dataset_name)\n",
    "\n",
    "    data = dataset.as_df().copy(deep=True)\n",
    "    data['id'] = range(len(data))\n",
    "\n",
    "    for detector, name in [(detect_outliers_sd, 'sd'), (detect_outliers_iqr, 'iqr')]:\n",
    "        dirty_slices = []\n",
    "\n",
    "        for column in dataset.numerical_columns:\n",
    "            dirty_slices.append(detector(data, column))\n",
    "\n",
    "        dirty = pd.concat(dirty_slices).drop_duplicates(subset='id')\n",
    "\n",
    "        data_priv_priv, data_priv_nonpriv, data_nonpriv_priv, data_nonpriv_nonpriv = \\\n",
    "            dataset.partition_data_by(data, attr1, attr2)\n",
    "        dirty_priv_priv, dirty_priv_nonpriv, dirty_nonpriv_priv, dirty_nonpriv_nonpriv = \\\n",
    "            dataset.partition_data_by(dirty, attr1, attr2)\n",
    "\n",
    "        # disparate = is_disparate(len(data_priv), len(dirty_priv), len(data_nonpriv), len(dirty_nonpriv))\n",
    "\n",
    "        frac_priv_priv = len(dirty_priv_priv) / len(data_priv_priv) if len(data_priv_priv) else np.NAN\n",
    "        frac_priv_nonpriv = len(dirty_priv_nonpriv) / len(data_priv_nonpriv) if len(data_priv_nonpriv) else np.NAN\n",
    "        frac_nonpriv_priv = len(dirty_nonpriv_priv) / len(data_nonpriv_priv) if len(data_nonpriv_priv) else np.NAN\n",
    "        frac_nonpriv_nonpriv = len(dirty_nonpriv_nonpriv) / len(data_nonpriv_nonpriv) if len(data_nonpriv_nonpriv) else np.NAN\n",
    "\n",
    "        frac_outliers.add_row([dataset_name, attr1[:7], attr2[:7], name,\n",
    "                               f\"{perc(frac_priv_priv)} ({len(data_priv_priv)})\",\n",
    "                               f\"{perc(frac_priv_nonpriv)} ({len(data_priv_nonpriv)})\",\n",
    "                               f\"{perc(frac_nonpriv_priv)} ({len(data_nonpriv_priv)})\",\n",
    "                               f\"{perc(frac_nonpriv_nonpriv)} ({len(data_nonpriv_nonpriv)})\"])\n",
    "\n",
    "    # Isolation Forest\n",
    "    dirty = detect_outliers_via_if(data, dataset, 1234)  # TODO: Try different seeds\n",
    "\n",
    "    dirty_priv_priv, dirty_priv_nonpriv, dirty_nonpriv_priv, dirty_nonpriv_nonpriv = \\\n",
    "        dataset.partition_data_by(dirty, attr1, attr2)\n",
    "\n",
    "    frac_priv_priv = len(dirty_priv_priv) / len(data_priv_priv) if len(data_priv_priv) else np.NAN\n",
    "    frac_priv_nonpriv = len(dirty_priv_nonpriv) / len(data_priv_nonpriv) if len(data_priv_nonpriv) else np.NAN\n",
    "    frac_nonpriv_priv = len(dirty_nonpriv_priv) / len(data_nonpriv_priv) if len(data_nonpriv_priv) else np.NAN\n",
    "    frac_nonpriv_nonpriv = len(dirty_nonpriv_nonpriv) / len(data_nonpriv_nonpriv) if len(data_nonpriv_nonpriv) else np.NAN\n",
    "\n",
    "    frac_outliers.add_row([dataset_name, attr1[:7], attr2[:7], 'if',\n",
    "                           f\"{perc(frac_priv_priv)} ({len(data_priv_priv)})\",\n",
    "                           f\"{perc(frac_priv_nonpriv)} ({len(data_priv_nonpriv)})\",\n",
    "                           f\"{perc(frac_nonpriv_priv)} ({len(data_nonpriv_priv)})\",\n",
    "                           f\"{perc(frac_nonpriv_nonpriv)} ({len(data_nonpriv_nonpriv)})\"])\n",
    "\n",
    "print(frac_outliers)"
   ]
  },
  {
   "cell_type": "code",
   "execution_count": 7,
   "id": "e639a942",
   "metadata": {},
   "outputs": [
    {
     "name": "stderr",
     "output_type": "stream",
     "text": [
      "OMP: Info #276: omp_set_nested routine deprecated, please use omp_set_max_active_levels instead.\n"
     ]
    },
    {
     "name": "stdout",
     "output_type": "stream",
     "text": [
      "+------------+-------+---------+------+-----------------+----------------+----------------+----------------+\n",
      "|  dataset   | attr1 |  attr2  | name |  frac_priv_priv | frac_priv_dis  | frac_dis_priv  |  frac_dis_dis  |\n",
      "+------------+-------+---------+------+-----------------+----------------+----------------+----------------+\n",
      "|   adult    |  sex  |   race  |  cl  |  10.0\\% (28735) |  7.7\\% (3915)  | 5.0\\% (13027)  |  3.6\\% (3165)  |\n",
      "|   adult    |  sex  |   race  | shap |  22.7\\% (28735) | 13.4\\% (3915)  | 8.5\\% (13027)  |  5.0\\% (3165)  |\n",
      "| folktables |  sex  |   race  |  cl  |  7.9\\% (115136) | 6.4\\% (71541)  | 6.6\\% (117473) | 5.0\\% (74667)  |\n",
      "| folktables |  sex  |   race  | shap | 12.0\\% (115136) | 6.9\\% (71541)  | 9.4\\% (117473) | 6.2\\% (74667)  |\n",
      "|   heart    |  sex  |  age@35 |  cl  |  22.7\\% (45527) |   0.0\\% (3)    | 23.3\\% (24469) |   0.0\\% (1)    |\n",
      "|   heart    |  sex  |  age@35 | shap |  26.1\\% (45527) |   0.0\\% (3)    | 30.9\\% (24469) |   0.0\\% (1)    |\n",
      "|   heart    |  sex  |  age@45 |  cl  |  22.4\\% (39163) | 17.9\\% (6367)  | 22.3\\% (20565) | 19.5\\% (3905)  |\n",
      "|   heart    |  sex  |  age@45 | shap |  27.4\\% (39163) | 18.3\\% (6367)  | 31.1\\% (20565) | 29.4\\% (3905)  |\n",
      "|   heart    |  sex  |  age@55 |  cl  |  23.5\\% (20579) | 22.8\\% (10674) | 21.0\\% (24951) | 22.1\\% (13796) |\n",
      "|   heart    |  sex  |  age@55 | shap |  25.5\\% (20579) | 31.0\\% (10674) | 26.6\\% (24951) | 30.8\\% (13796) |\n",
      "|   german   |  age  |   sex   |  cl  |   27.1\\% (605)  |  23.9\\% (205)  |  45.9\\% (85)   |  36.2\\% (105)  |\n",
      "|   german   |  age  |   sex   | shap |   16.0\\% (605)  |  18.5\\% (205)  |  30.6\\% (85)   |  22.9\\% (105)  |\n",
      "|   german   |  age  | foreign |  cl  |   14.7\\% (34)   |  27.3\\% (776)  |   33.3\\% (3)   |  33.7\\% (187)  |\n",
      "|   german   |  age  | foreign | shap |    5.9\\% (34)   |  17.1\\% (776)  |   0.0\\% (3)    |  26.7\\% (187)  |\n",
      "|   german   |  sex  | foreign |  cl  |    6.7\\% (30)   |  22.1\\% (660)  |   14.3\\% (7)   |  21.8\\% (303)  |\n",
      "|   german   |  sex  | foreign | shap |    3.3\\% (30)   |  18.5\\% (660)  |   14.3\\% (7)   |  20.1\\% (303)  |\n",
      "+------------+-------+---------+------+-----------------+----------------+----------------+----------------+\n"
     ]
    }
   ],
   "source": [
    "frac_outliers = PrettyTable()\n",
    "frac_outliers.field_names = [\"dataset\", \"attr1\", \"attr2\", \"name\",\n",
    "                             \"frac_priv_priv\", \"frac_priv_dis\",\n",
    "                             \"frac_dis_priv\", \"frac_dis_dis\"]\n",
    "\n",
    "for dataset_name, attr1, attr2 in cases:\n",
    "    dataset = Datasets.load(dataset_name)\n",
    "\n",
    "    data = dataset.as_df().copy(deep=True)\n",
    "    data['id'] = range(len(data))\n",
    "\n",
    "    for detector, name in [(detect_mislabeled_via_cleanlab, 'cl'), (detect_mislabeled_via_shapley, 'shap')]:\n",
    "        dirty = detector(data, dataset, 1234)  # TODO: Try different seeds\n",
    "\n",
    "        data_priv_priv, data_priv_nonpriv, data_nonpriv_priv, data_nonpriv_nonpriv = \\\n",
    "            dataset.partition_data_by(data, attr1, attr2)\n",
    "        dirty_priv_priv, dirty_priv_nonpriv, dirty_nonpriv_priv, dirty_nonpriv_nonpriv = \\\n",
    "            dataset.partition_data_by(dirty, attr1, attr2)\n",
    "\n",
    "        frac_priv_priv = len(dirty_priv_priv) / len(data_priv_priv) if len(data_priv_priv) else np.NAN\n",
    "        frac_priv_nonpriv = len(dirty_priv_nonpriv) / len(data_priv_nonpriv) if len(data_priv_nonpriv) else np.NAN\n",
    "        frac_nonpriv_priv = len(dirty_nonpriv_priv) / len(data_nonpriv_priv) if len(data_nonpriv_priv) else np.NAN\n",
    "        frac_nonpriv_nonpriv = len(dirty_nonpriv_nonpriv) / len(data_nonpriv_nonpriv) if len(data_nonpriv_nonpriv) else np.NAN\n",
    "\n",
    "        frac_outliers.add_row([dataset_name, attr1[:7], attr2[:7], name,\n",
    "                               f\"{perc(frac_priv_priv)} ({len(data_priv_priv)})\",\n",
    "                               f\"{perc(frac_priv_nonpriv)} ({len(data_priv_nonpriv)})\",\n",
    "                               f\"{perc(frac_nonpriv_priv)} ({len(data_nonpriv_priv)})\",\n",
    "                               f\"{perc(frac_nonpriv_nonpriv)} ({len(data_nonpriv_nonpriv)})\"])\n",
    "\n",
    "print(frac_outliers)"
   ]
  }
 ],
 "metadata": {
  "kernelspec": {
   "display_name": "Python 3 (ipykernel)",
   "language": "python",
   "name": "python3"
  },
  "language_info": {
   "codemirror_mode": {
    "name": "ipython",
    "version": 3
   },
   "file_extension": ".py",
   "mimetype": "text/x-python",
   "name": "python",
   "nbconvert_exporter": "python",
   "pygments_lexer": "ipython3",
   "version": "3.10.8"
  }
 },
 "nbformat": 4,
 "nbformat_minor": 5
}
