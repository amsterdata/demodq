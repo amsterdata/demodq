{
 "cells": [
  {
   "cell_type": "code",
   "execution_count": 1,
   "id": "b21600ae",
   "metadata": {},
   "outputs": [],
   "source": [
    "import pandas as pd\n",
    "import numpy as np\n",
    "import matplotlib.pyplot as plt\n",
    "import seaborn as sns\n",
    "\n",
    "import warnings\n",
    "warnings.filterwarnings('ignore')\n"
   ]
  },
  {
   "cell_type": "markdown",
   "id": "fe744e3b",
   "metadata": {},
   "source": [
    "## Import a dataset"
   ]
  },
  {
   "cell_type": "code",
   "execution_count": 5,
   "id": "6cf22f98",
   "metadata": {},
   "outputs": [],
   "source": [
    "from demodq.datasets import Datasets\n",
    "\n",
    "# Available datasets: 'adult', 'folktables','heart', 'credit', 'german'\n"
   ]
  },
  {
   "cell_type": "markdown",
   "id": "9278159c",
   "metadata": {},
   "source": [
    "## Detect dirty records"
   ]
  },
  {
   "cell_type": "code",
   "execution_count": 6,
   "id": "c2fee193",
   "metadata": {},
   "outputs": [],
   "source": [
    "from demodq.column_errors import detect_missing_values, detect_outliers_sd, detect_outliers_iqr\n",
    "from demodq.tuple_errors import detect_mislabeled_via_shapley, detect_mislabeled_via_cleanlab, detect_outliers_via_if\n",
    "\n"
   ]
  },
  {
   "cell_type": "code",
   "execution_count": 7,
   "id": "30f7bac4",
   "metadata": {},
   "outputs": [],
   "source": [
    "from demodq.analysis import is_disparate"
   ]
  },
  {
   "cell_type": "code",
   "execution_count": 8,
   "id": "6e6e5e74",
   "metadata": {},
   "outputs": [
    {
     "name": "stdout",
     "output_type": "stream",
     "text": [
      "cleanlab adult sex mislabeled positive priv 0.3180487804878049 dis 0.57543391188251\n",
      "cleanlab adult sex mislabeled negative priv 0.6819512195121952 dis 0.42456608811748997\n",
      "....Nope cleanlab adult sex\n",
      "cleanlab adult race mislabeled positive priv 0.34414256500146073 dis 0.4527363184079602\n",
      "cleanlab adult race mislabeled negative priv 0.6558574349985393 dis 0.5472636815920398\n",
      "....Nope cleanlab adult race\n",
      "cleanlab folktables sex mislabeled positive priv 0.24262105794905103 dis 0.38772019839233796\n",
      "cleanlab folktables sex mislabeled negative priv 0.757378942050949 dis 0.612279801607662\n",
      "....Nope cleanlab folktables sex\n",
      "cleanlab folktables race mislabeled positive priv 0.2739285505466877 dis 0.3503381184007593\n",
      "cleanlab folktables race mislabeled negative priv 0.7260714494533123 dis 0.6496618815992408\n",
      "....Nope cleanlab folktables race\n",
      "cleanlab heart sex mislabeled positive priv 0.5771688613477924 dis 0.5222457627118644\n",
      "cleanlab heart sex mislabeled negative priv 0.4228311386522076 dis 0.4777542372881356\n",
      "sig? True\n",
      "cleanlab german age mislabeled positive priv 0.45555555555555555 dis 0.4\n",
      "cleanlab german age mislabeled negative priv 0.5444444444444444 dis 0.6\n",
      "sig? False\n"
     ]
    }
   ],
   "source": [
    "cases = [('adult', 'sex'), ('adult', 'race'), ('folktables', 'sex'), ('folktables', 'race'),\n",
    "         ('heart', 'sex'), ('german', 'age')]\n",
    "\n",
    "def val_or_zero(key, dictionary):\n",
    "    if key in dictionary:\n",
    "        return dictionary[key]\n",
    "    else:\n",
    "        return 0.0\n",
    "\n",
    "for detector in ['cleanlab']:    \n",
    "    for dataset_name, criteria in cases:\n",
    "        dataset = Datasets.load(dataset_name)\n",
    "\n",
    "        df = dataset.as_df()\n",
    "        if detector == 'shapley':\n",
    "            dirty = detect_mislabeled_via_shapley(df, dataset, seed=42)\n",
    "        else:    \n",
    "            dirty = detect_mislabeled_via_cleanlab(df, dataset, seed=42)\n",
    "            \n",
    "        dirty['label'] = dataset.extract_label_for_prediction_task(dirty)\n",
    "\n",
    "        dirty_priv, dirty_dis = dataset.partition_data_by(dirty, criteria)\n",
    "\n",
    "        counts_priv = dict(dirty_priv.label.value_counts())\n",
    "        counts_dis = dict(dirty_dis.label.value_counts())\n",
    "\n",
    "        disparate = is_disparate(\n",
    "            len(dirty_priv), val_or_zero(True, counts_priv), \n",
    "            len(dirty_dis), val_or_zero(True, counts_dis))\n",
    "        \n",
    "        mp_ratio_priv = val_or_zero(True, counts_priv) / len(dirty_priv)\n",
    "        mp_ratio_dis = val_or_zero(True, counts_dis) / len(dirty_dis)\n",
    "\n",
    "        mn_ratio_priv = val_or_zero(False, counts_priv) / len(dirty_priv)\n",
    "        mn_ratio_dis = val_or_zero(False, counts_dis) / len(dirty_dis)\n",
    "\n",
    "        if mp_ratio_priv > mp_ratio_dis:\n",
    "            print(detector, dataset_name, criteria, 'mislabeled positive', 'priv', mp_ratio_priv, 'dis', mp_ratio_dis)\n",
    "            print(detector, dataset_name, criteria, 'mislabeled negative', 'priv', mn_ratio_priv, 'dis', mn_ratio_dis)\n",
    "            print('sig?', disparate)\n",
    "        else:\n",
    "            print(detector, dataset_name, criteria, 'mislabeled positive', 'priv', mp_ratio_priv, 'dis', mp_ratio_dis)\n",
    "            print(detector, dataset_name, criteria, 'mislabeled negative', 'priv', mn_ratio_priv, 'dis', mn_ratio_dis)                        \n",
    "            print(\"....Nope\", detector, dataset_name, criteria)\n",
    "        \n",
    "        "
   ]
  },
  {
   "cell_type": "code",
   "execution_count": null,
   "id": "4d01f49f",
   "metadata": {},
   "outputs": [],
   "source": []
  }
 ],
 "metadata": {
  "kernelspec": {
   "display_name": "Python 3 (ipykernel)",
   "language": "python",
   "name": "python3"
  },
  "language_info": {
   "codemirror_mode": {
    "name": "ipython",
    "version": 3
   },
   "file_extension": ".py",
   "mimetype": "text/x-python",
   "name": "python",
   "nbconvert_exporter": "python",
   "pygments_lexer": "ipython3",
   "version": "3.9.13"
  }
 },
 "nbformat": 4,
 "nbformat_minor": 5
}
